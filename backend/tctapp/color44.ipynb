{
 "cells": [
  {
   "cell_type": "code",
   "execution_count": 9,
   "metadata": {
    "pycharm": {
     "name": "#%%\n"
    }
   },
   "outputs": [],
   "source": [
    "from sklearn.cluster import KMeans\n",
    "from collections import Counter\n",
    "import numpy as np\n",
    "import cv2 as cv\n",
    "import matplotlib.pyplot as plt\n",
    "import os\n",
    "from colorthief import ColorThief\n",
    "import colorsys\n",
    "from selenium import webdriver\n",
    "from selenium.webdriver.common.keys import Keys\n",
    "from selenium.webdriver.common.by import By\n",
    "import time \n",
    "import urllib.request \n",
    "import os\n",
    "\n",
    "\n",
    "def crawling(search, count = 30):\n",
    "    # 이미지가 저장될 경로\n",
    "    # 크롤링 30개 기준 40초\n",
    "    saveurl = \"C:/Temp/google img/dataset/\"\n",
    "\n",
    "    ## 셀레니움으로 구글 이미지 접속 후 이미지 검색\n",
    "\n",
    "    options = webdriver.ChromeOptions()\n",
    "    options.headless = True\n",
    "    options.add_argument(\"window-size=1920x1080\")\n",
    "\n",
    "    driver = webdriver.Chrome(options=options)\n",
    "    driver.get(\"https://www.google.co.kr/imghp?hl=ko&tab=wi&ogbl\") \n",
    "    elem = driver.find_element(\"name\",\"q\") \n",
    "    elem.send_keys(search)\n",
    "\n",
    "    elem.send_keys(Keys.RETURN) \n",
    "\n",
    "    #이미지 찾고 다운받기\n",
    "    images = driver.find_elements(By.CSS_SELECTOR,\".rg_i.Q4LuWd\")\n",
    "\n",
    "    for i in range(count):\n",
    "\n",
    "        try: \n",
    "            images[i].click() # 이미지 클릭\n",
    "            time.sleep(1)\n",
    "\n",
    "            imgUrl = driver.find_element(By.CSS_SELECTOR,\".n3VNCb\").get_attribute(\"src\")\n",
    "            urllib.request.urlretrieve(imgUrl, saveurl + str(i) + \".jpg\")    # 이미지 다운\n",
    "\n",
    "        except:\n",
    "            pass\n",
    "    driver.close()\n",
    "\n",
    "\n",
    "# folder path -> 폴더 안에 있는 이미지를 하나로 합침\n",
    "def get_file_count(folder_path) :\n",
    "    dirListing = os.listdir(folder_path)\n",
    "    return os.listdir(folder_path)\n",
    "\n",
    "def palette(clusters):\n",
    "    width=300\n",
    "    palette = np.zeros((50, width, 3), np.uint8)\n",
    "    steps = width/clusters.cluster_centers_.shape[0]\n",
    "    for idx, centers in enumerate(clusters.cluster_centers_): \n",
    "        palette[:, int(idx*steps):(int((idx+1)*steps)), :] = centers\n",
    "    return palette\n",
    "\n",
    "def show_img(img):\n",
    "    plt.imshow(img)\n",
    "    plt.axis('off') #hide the axis\n",
    "    plt.show()\n",
    "# 여기까지\n",
    "\n",
    "\n",
    "def threecolor():\n",
    "    clt = KMeans(n_clusters = 3)\n",
    "\n",
    "    path = \"C:/Temp/google img/dataset/\"\n",
    "\n",
    "    ct = []\n",
    "    for i in get_file_count(path) :\n",
    "        img = cv.imread(path + i)\n",
    "        img = cv.cvtColor(img, cv.COLOR_BGR2RGB)\n",
    "        clt_1 = clt.fit(img.reshape(-1, 3))\n",
    "        img = palette(clt_1)\n",
    "        ct.append(img)\n",
    "\n",
    "    img2 = cv.vconcat(ct)\n",
    "    clt_1 = clt.fit(img2.reshape(-1, 3))\n",
    "    show_img(palette(clt_1))\n",
    "\n",
    "    \n",
    "\n",
    "def manycolor():\n",
    "    clt = KMeans(n_clusters = 10)\n",
    "\n",
    "    path = \"/Users/gungo/workspace/connect-project/backend/tctapp/img/건강식 서양식\"\n",
    "\n",
    "    ct = []\n",
    "    for i in get_file_count(path) :\n",
    "        img = cv.imread(path + i)\n",
    "        img = cv.cvtColor(img, cv.COLOR_BGR2RGB)\n",
    "        clt_1 = clt.fit(img.reshape(-1, 3))\n",
    "        img = palette(clt_1)\n",
    "        ct.append(img)\n",
    "\n",
    "    img2 = cv.vconcat(ct)\n",
    "    clt_1 = clt.fit(img2.reshape(-1, 3))\n",
    "    show_img(palette(clt_1))"
   ]
  },
  {
   "cell_type": "code",
   "execution_count": null,
   "metadata": {
    "pycharm": {
     "name": "#%%\n"
    }
   },
   "outputs": [],
   "source": [
    "crawling(\"?\") # 키워드 크롤링 키워드 값 입력"
   ]
  },
  {
   "cell_type": "code",
   "execution_count": 1,
   "metadata": {
    "pycharm": {
     "name": "#%%\n"
    }
   },
   "outputs": [
    {
     "ename": "NameError",
     "evalue": "name 'threecolor' is not defined",
     "output_type": "error",
     "traceback": [
      "\u001B[0;31m---------------------------------------------------------------------------\u001B[0m",
      "\u001B[0;31mNameError\u001B[0m                                 Traceback (most recent call last)",
      "Cell \u001B[0;32mIn [1], line 1\u001B[0m\n\u001B[0;32m----> 1\u001B[0m \u001B[43mthreecolor\u001B[49m() \u001B[38;5;66;03m# 색상 3개 출력 함수\u001B[39;00m\n",
      "\u001B[0;31mNameError\u001B[0m: name 'threecolor' is not defined"
     ]
    }
   ],
   "source": [
    "threecolor() # 색상 3개 출력 함수"
   ]
  },
  {
   "cell_type": "code",
   "execution_count": 12,
   "metadata": {
    "pycharm": {
     "name": "#%%\n"
    }
   },
   "outputs": [
    {
     "data": {
      "image/png": "[encoded data removed]",
      "text/plain": [
       "<Figure size 432x288 with 1 Axes>"
      ]
     },
     "metadata": {
      "needs_background": "light"
     },
     "output_type": "display_data"
    }
   ],
   "source": [
    "manycolor()"
   ]
  },
  {
   "cell_type": "code",
   "execution_count": null,
   "metadata": {
    "pycharm": {
     "name": "#%%\n"
    }
   },
   "outputs": [],
   "source": []
  }
 ],
 "metadata": {
  "kernelspec": {
   "display_name": "Python 3.8.5 ('base')",
   "language": "python",
   "name": "python3"
  },
  "language_info": {
   "codemirror_mode": {
    "name": "ipython",
    "version": 3
   },
   "file_extension": ".py",
   "mimetype": "text/x-python",
   "name": "python",
   "nbconvert_exporter": "python",
   "pygments_lexer": "ipython3",
   "version": "3.8.5"
  },
  "orig_nbformat": 4,
  "vscode": {
   "interpreter": {
    "hash": "4b69f4b06172c80088ae8e97c1aa5f38237e39b2c76a7cdd47abc166e3a1add8"
   }
  }
 },
 "nbformat": 4,
 "nbformat_minor": 2
}